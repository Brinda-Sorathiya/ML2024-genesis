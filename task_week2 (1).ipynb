{
 "cells": [
  {
   "cell_type": "markdown",
   "metadata": {
    "id": "mNWEk79ChhHT"
   },
   "source": [
    "# **CLASSIFICATION**"
   ]
  },
  {
   "cell_type": "code",
   "execution_count": 1,
   "metadata": {
    "id": "affaP_nLVY2H"
   },
   "outputs": [],
   "source": [
    "import numpy as np\n",
    "import pandas as pd\n",
    "from sklearn.model_selection import train_test_split"
   ]
  },
  {
   "cell_type": "code",
   "execution_count": 2,
   "metadata": {
    "colab": {
     "base_uri": "https://localhost:8080/",
     "height": 304
    },
    "id": "QT0AOUdsfyTx",
    "outputId": "f4457708-110f-4c64-d2c2-72c7de4ac70b"
   },
   "outputs": [],
   "source": [
    "#For more information about the dataset visit: https://archive.ics.uci.edu/dataset/451/breast+cancer+coimbra\n",
    "cancer_dataset = pd.read_csv(r'dataR2.csv')"
   ]
  },
  {
   "cell_type": "code",
   "execution_count": 3,
   "metadata": {
    "colab": {
     "base_uri": "https://localhost:8080/",
     "height": 141
    },
    "id": "CaCfisGdVjgy",
    "outputId": "fa1311c6-912a-42c3-ea02-cf82a1ca21fa"
   },
   "outputs": [
    {
     "data": {
      "text/html": [
       "<div>\n",
       "<style scoped>\n",
       "    .dataframe tbody tr th:only-of-type {\n",
       "        vertical-align: middle;\n",
       "    }\n",
       "\n",
       "    .dataframe tbody tr th {\n",
       "        vertical-align: top;\n",
       "    }\n",
       "\n",
       "    .dataframe thead th {\n",
       "        text-align: right;\n",
       "    }\n",
       "</style>\n",
       "<table border=\"1\" class=\"dataframe\">\n",
       "  <thead>\n",
       "    <tr style=\"text-align: right;\">\n",
       "      <th></th>\n",
       "      <th>Age</th>\n",
       "      <th>BMI</th>\n",
       "      <th>Glucose</th>\n",
       "      <th>Insulin</th>\n",
       "      <th>HOMA</th>\n",
       "      <th>Leptin</th>\n",
       "      <th>Adiponectin</th>\n",
       "      <th>Resistin</th>\n",
       "      <th>MCP.1</th>\n",
       "      <th>Classification</th>\n",
       "    </tr>\n",
       "  </thead>\n",
       "  <tbody>\n",
       "    <tr>\n",
       "      <th>0</th>\n",
       "      <td>48</td>\n",
       "      <td>23.500000</td>\n",
       "      <td>70</td>\n",
       "      <td>2.707</td>\n",
       "      <td>0.467409</td>\n",
       "      <td>8.8071</td>\n",
       "      <td>9.702400</td>\n",
       "      <td>7.99585</td>\n",
       "      <td>417.114</td>\n",
       "      <td>1</td>\n",
       "    </tr>\n",
       "    <tr>\n",
       "      <th>1</th>\n",
       "      <td>83</td>\n",
       "      <td>20.690495</td>\n",
       "      <td>92</td>\n",
       "      <td>3.115</td>\n",
       "      <td>0.706897</td>\n",
       "      <td>8.8438</td>\n",
       "      <td>5.429285</td>\n",
       "      <td>4.06405</td>\n",
       "      <td>468.786</td>\n",
       "      <td>1</td>\n",
       "    </tr>\n",
       "    <tr>\n",
       "      <th>2</th>\n",
       "      <td>82</td>\n",
       "      <td>23.124670</td>\n",
       "      <td>91</td>\n",
       "      <td>4.498</td>\n",
       "      <td>1.009651</td>\n",
       "      <td>17.9393</td>\n",
       "      <td>22.432040</td>\n",
       "      <td>9.27715</td>\n",
       "      <td>554.697</td>\n",
       "      <td>1</td>\n",
       "    </tr>\n",
       "    <tr>\n",
       "      <th>3</th>\n",
       "      <td>68</td>\n",
       "      <td>21.367521</td>\n",
       "      <td>77</td>\n",
       "      <td>3.226</td>\n",
       "      <td>0.612725</td>\n",
       "      <td>9.8827</td>\n",
       "      <td>7.169560</td>\n",
       "      <td>12.76600</td>\n",
       "      <td>928.220</td>\n",
       "      <td>1</td>\n",
       "    </tr>\n",
       "    <tr>\n",
       "      <th>4</th>\n",
       "      <td>86</td>\n",
       "      <td>21.111111</td>\n",
       "      <td>92</td>\n",
       "      <td>3.549</td>\n",
       "      <td>0.805386</td>\n",
       "      <td>6.6994</td>\n",
       "      <td>4.819240</td>\n",
       "      <td>10.57635</td>\n",
       "      <td>773.920</td>\n",
       "      <td>1</td>\n",
       "    </tr>\n",
       "  </tbody>\n",
       "</table>\n",
       "</div>"
      ],
      "text/plain": [
       "   Age        BMI  Glucose  Insulin      HOMA   Leptin  Adiponectin  Resistin  \\\n",
       "0   48  23.500000       70    2.707  0.467409   8.8071     9.702400   7.99585   \n",
       "1   83  20.690495       92    3.115  0.706897   8.8438     5.429285   4.06405   \n",
       "2   82  23.124670       91    4.498  1.009651  17.9393    22.432040   9.27715   \n",
       "3   68  21.367521       77    3.226  0.612725   9.8827     7.169560  12.76600   \n",
       "4   86  21.111111       92    3.549  0.805386   6.6994     4.819240  10.57635   \n",
       "\n",
       "     MCP.1  Classification  \n",
       "0  417.114               1  \n",
       "1  468.786               1  \n",
       "2  554.697               1  \n",
       "3  928.220               1  \n",
       "4  773.920               1  "
      ]
     },
     "execution_count": 3,
     "metadata": {},
     "output_type": "execute_result"
    }
   ],
   "source": [
    "cancer_dataset.head()"
   ]
  },
  {
   "cell_type": "code",
   "execution_count": 4,
   "metadata": {
    "colab": {
     "base_uri": "https://localhost:8080/",
     "height": 141
    },
    "id": "lc4wa5PVghoP",
    "outputId": "43b8a3af-00c5-48e1-bd8f-f199d454fd30"
   },
   "outputs": [
    {
     "data": {
      "text/html": [
       "<div>\n",
       "<style scoped>\n",
       "    .dataframe tbody tr th:only-of-type {\n",
       "        vertical-align: middle;\n",
       "    }\n",
       "\n",
       "    .dataframe tbody tr th {\n",
       "        vertical-align: top;\n",
       "    }\n",
       "\n",
       "    .dataframe thead th {\n",
       "        text-align: right;\n",
       "    }\n",
       "</style>\n",
       "<table border=\"1\" class=\"dataframe\">\n",
       "  <thead>\n",
       "    <tr style=\"text-align: right;\">\n",
       "      <th></th>\n",
       "      <th>Age</th>\n",
       "      <th>BMI</th>\n",
       "      <th>Glucose</th>\n",
       "      <th>Insulin</th>\n",
       "      <th>HOMA</th>\n",
       "      <th>Leptin</th>\n",
       "      <th>Adiponectin</th>\n",
       "      <th>Resistin</th>\n",
       "      <th>MCP.1</th>\n",
       "      <th>Classification</th>\n",
       "    </tr>\n",
       "  </thead>\n",
       "  <tbody>\n",
       "    <tr>\n",
       "      <th>111</th>\n",
       "      <td>45</td>\n",
       "      <td>26.85</td>\n",
       "      <td>92</td>\n",
       "      <td>3.33</td>\n",
       "      <td>0.755688</td>\n",
       "      <td>54.68</td>\n",
       "      <td>12.10</td>\n",
       "      <td>10.96</td>\n",
       "      <td>268.23</td>\n",
       "      <td>2</td>\n",
       "    </tr>\n",
       "    <tr>\n",
       "      <th>112</th>\n",
       "      <td>62</td>\n",
       "      <td>26.84</td>\n",
       "      <td>100</td>\n",
       "      <td>4.53</td>\n",
       "      <td>1.117400</td>\n",
       "      <td>12.45</td>\n",
       "      <td>21.42</td>\n",
       "      <td>7.32</td>\n",
       "      <td>330.16</td>\n",
       "      <td>2</td>\n",
       "    </tr>\n",
       "    <tr>\n",
       "      <th>113</th>\n",
       "      <td>65</td>\n",
       "      <td>32.05</td>\n",
       "      <td>97</td>\n",
       "      <td>5.73</td>\n",
       "      <td>1.370998</td>\n",
       "      <td>61.48</td>\n",
       "      <td>22.54</td>\n",
       "      <td>10.33</td>\n",
       "      <td>314.05</td>\n",
       "      <td>2</td>\n",
       "    </tr>\n",
       "    <tr>\n",
       "      <th>114</th>\n",
       "      <td>72</td>\n",
       "      <td>25.59</td>\n",
       "      <td>82</td>\n",
       "      <td>2.82</td>\n",
       "      <td>0.570392</td>\n",
       "      <td>24.96</td>\n",
       "      <td>33.75</td>\n",
       "      <td>3.27</td>\n",
       "      <td>392.46</td>\n",
       "      <td>2</td>\n",
       "    </tr>\n",
       "    <tr>\n",
       "      <th>115</th>\n",
       "      <td>86</td>\n",
       "      <td>27.18</td>\n",
       "      <td>138</td>\n",
       "      <td>19.91</td>\n",
       "      <td>6.777364</td>\n",
       "      <td>90.28</td>\n",
       "      <td>14.11</td>\n",
       "      <td>4.35</td>\n",
       "      <td>90.09</td>\n",
       "      <td>2</td>\n",
       "    </tr>\n",
       "  </tbody>\n",
       "</table>\n",
       "</div>"
      ],
      "text/plain": [
       "     Age    BMI  Glucose  Insulin      HOMA  Leptin  Adiponectin  Resistin  \\\n",
       "111   45  26.85       92     3.33  0.755688   54.68        12.10     10.96   \n",
       "112   62  26.84      100     4.53  1.117400   12.45        21.42      7.32   \n",
       "113   65  32.05       97     5.73  1.370998   61.48        22.54     10.33   \n",
       "114   72  25.59       82     2.82  0.570392   24.96        33.75      3.27   \n",
       "115   86  27.18      138    19.91  6.777364   90.28        14.11      4.35   \n",
       "\n",
       "      MCP.1  Classification  \n",
       "111  268.23               2  \n",
       "112  330.16               2  \n",
       "113  314.05               2  \n",
       "114  392.46               2  \n",
       "115   90.09               2  "
      ]
     },
     "execution_count": 4,
     "metadata": {},
     "output_type": "execute_result"
    }
   ],
   "source": [
    "cancer_dataset.tail()"
   ]
  },
  {
   "cell_type": "markdown",
   "metadata": {
    "id": "R1QtPTWuVvuR"
   },
   "source": [
    "Linear Regression"
   ]
  },
  {
   "cell_type": "code",
   "execution_count": 5,
   "metadata": {},
   "outputs": [
    {
     "name": "stdout",
     "output_type": "stream",
     "text": [
      "Score: 0.4583333333333333\n"
     ]
    }
   ],
   "source": [
    "class LogitRegression: \n",
    "    def __init__(self, lr, itr):         \n",
    "        self.lr = lr         \n",
    "        self.itr = itr \n",
    "\n",
    "    def fit(self, X, Y):         \n",
    "        self.m, self.n = X.shape         \n",
    "        self.W = np.zeros(self.n)         \n",
    "        self.b = 0        \n",
    "        self.X = X         \n",
    "        self.Y = Y \n",
    "          \n",
    "        for i in range(self.itr):             \n",
    "            self.update()             \n",
    "        return self\n",
    "      \n",
    "    def update(self):            \n",
    "        A = 1 / (1 + np.exp(-(self.X.dot(self.W) + self.b))) \n",
    "        tmp = (A - self.Y.T)         \n",
    "        tmp = np.reshape(tmp, self.m)         \n",
    "        dW = np.dot(self.X.T, tmp) / self.m          \n",
    "        db = np.sum(tmp) / self.m  \n",
    "          \n",
    "        self.W = self.W - self.lr * dW     \n",
    "        self.b = self.b - self.lr * db \n",
    "          \n",
    "        return self\n",
    "      \n",
    "    def predict(self, X):     \n",
    "        Z = 1 / (1 + np.exp(-(X.dot(self.W) + self.b)))         \n",
    "        Y = np.where(Z > 0.5, 1, 0)         \n",
    "        return Y \n",
    "\n",
    "    def accuracy(self, y_test, y_pred):\n",
    "        correctly_classified = np.sum(y_test == y_pred)\n",
    "        accuracy = correctly_classified / len(y_test)\n",
    "        return accuracy\n",
    "\n",
    "def main(): \n",
    "    # Importing dataset     \n",
    "    df = cancer_dataset \n",
    "    X = df.iloc[:,:-1].values \n",
    "    Y = df.iloc[:,-1].values\n",
    "      \n",
    "    # Splitting dataset into train and test set \n",
    "    X_train, X_test, Y_train, Y_test = train_test_split(X, Y, test_size=0.2, random_state=0) \n",
    "      \n",
    "    model = LogitRegression(lr=0.001, itr=5000) \n",
    "    model.fit(X_train, Y_train)     \n",
    "      \n",
    "      \n",
    "    Y_pred = model.predict(X_test)     \n",
    "\n",
    "    score = model.accuracy(Y_test, Y_pred)\n",
    "    \n",
    "    print(\"Score:\", score)\n",
    "      \n",
    "  \n",
    "if __name__ == \"__main__\":      \n",
    "    main()\n"
   ]
  },
  {
   "cell_type": "markdown",
   "metadata": {
    "id": "wudQWSK7YVmD"
   },
   "source": [
    "SVM(Support Vector Machines)"
   ]
  },
  {
   "cell_type": "code",
   "execution_count": 7,
   "metadata": {
    "id": "PGjeZdk2YY9I"
   },
   "outputs": [
    {
     "name": "stdout",
     "output_type": "stream",
     "text": [
      "0.8333333333333334\n"
     ]
    }
   ],
   "source": [
    "#Write Code for SVM here\n",
    "from sklearn.svm import SVC\n",
    "\n",
    "x = cancer_dataset.iloc[:, :-1]\n",
    "y = cancer_dataset.iloc[:,-1]\n",
    "\n",
    "x_train, x_test, y_train, y_test = train_test_split(x, y, test_size=0.2, random_state=42)\n",
    "\n",
    "clf = SVC(kernel='linear', C=3)\n",
    "clf.fit(x_train, y_train)\n",
    "\n",
    "print(clf.score(x_test, y_test))"
   ]
  },
  {
   "cell_type": "markdown",
   "metadata": {
    "id": "7bOI_sGhhWix"
   },
   "source": [
    "\n",
    "\n",
    "---\n",
    "\n"
   ]
  },
  {
   "cell_type": "markdown",
   "metadata": {
    "id": "xKrFATDUhaz8"
   },
   "source": [
    "# **LINEAR REGRESSION**"
   ]
  },
  {
   "cell_type": "code",
   "execution_count": null,
   "metadata": {},
   "outputs": [],
   "source": [
    "import pandas as pd\n",
    "import numpy as np\n",
    "from sklearn.model_selection import train_test_split\n",
    "import matplotlib.pyplot as plt\n",
    "\n",
    "print(pd.__version__)\n",
    "print(np.__version__)\n"
   ]
  },
  {
   "cell_type": "code",
   "execution_count": null,
   "metadata": {},
   "outputs": [],
   "source": [
    "real_estate_dataset = pd.read_excel(r'Real estate valuation data set.xlsx')\n",
    "real_estate_dataset = real_estate_dataset.drop(columns=['No'], axis=1)\n",
    "print(real_estate_dataset.head())"
   ]
  },
  {
   "cell_type": "code",
   "execution_count": null,
   "metadata": {},
   "outputs": [],
   "source": [
    "\n",
    "class LinearRegression:\n",
    "    def __init__(self, lr, ltr):\n",
    "        self.lr = lr\n",
    "        self.ltr = ltr\n",
    "        \n",
    "    def fit(self, X, Y):\n",
    "        self.m, self.n = X.shape\n",
    "        self.W = np.zeros(self.n)\n",
    "        self.b = 0\n",
    "        self.X = X\n",
    "        self.Y = Y\n",
    "        \n",
    "        for i in range(self.ltr):\n",
    "            self.update()\n",
    "            \n",
    "        return self\n",
    "    \n",
    "    def update(self):\n",
    "        Y_pred = self.predict(self.X)\n",
    "        dW = - (2 * (self.X.T).dot(self.Y - Y_pred)) / self.m\n",
    "        db = - 2 * np.sum(self.Y - Y_pred) / self.m\n",
    "        self.W = self.W - self.lr * dW\n",
    "        self.b = self.b - self.lr * db\n",
    "        return self\n",
    "    \n",
    "    def predict(self, X):\n",
    "        return X.dot(self.W) + self.b\n",
    "\n",
    "\n",
    "    def score(self, y_test, y_pred):\n",
    "        y_mean = np.mean(y_test)\n",
    "        sqtotal = np.sum((y_test - y_mean) ** 2)\n",
    "        sqresidual = np.sum((y_test - y_pred) ** 2)\n",
    "        score = 1 - (sqresidual / sqtotal)\n",
    "        return score\n",
    "\n",
    "def main():\n",
    "    real_estate_dataset = pd.read_excel(r'Real estate valuation data set.xlsx')\n",
    "    real_estate_dataset = real_estate_dataset.drop(columns=['No'], axis=1)\n",
    "    print(real_estate_dataset.head())\n",
    "    \n",
    "    X = real_estate_dataset.iloc[:, :-1].values\n",
    "    Y = real_estate_dataset.iloc[:, -1].values\n",
    "    \n",
    "    X = (X - X.mean(axis=0)) / X.std(axis=0)\n",
    "    \n",
    "    X_train, X_test, Y_train, Y_test = train_test_split(X, Y, test_size=0.2, random_state=0)\n",
    "    \n",
    "    model = LinearRegression(ltr=1000, lr=0.005)\n",
    "    model.fit(X_train, Y_train)\n",
    "    \n",
    "    Y_pred = model.predict(X_test)\n",
    "    \n",
    "    score = model.score(Y_test, Y_pred)\n",
    "    \n",
    "    print(\"Score:\", score)\n",
    "    \n",
    "if __name__ == \"__main__\":\n",
    "    main()\n"
   ]
  }
 ],
 "metadata": {
  "colab": {
   "provenance": []
  },
  "kernelspec": {
   "display_name": "Python 3 (ipykernel)",
   "language": "python",
   "name": "python3"
  },
  "language_info": {
   "codemirror_mode": {
    "name": "ipython",
    "version": 3
   },
   "file_extension": ".py",
   "mimetype": "text/x-python",
   "name": "python",
   "nbconvert_exporter": "python",
   "pygments_lexer": "ipython3",
   "version": "3.12.2"
  }
 },
 "nbformat": 4,
 "nbformat_minor": 4
}
